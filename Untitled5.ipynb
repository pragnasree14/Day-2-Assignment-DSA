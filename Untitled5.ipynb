{
  "nbformat": 4,
  "nbformat_minor": 0,
  "metadata": {
    "colab": {
      "name": "Untitled5.ipynb",
      "provenance": [],
      "authorship_tag": "ABX9TyO/mu2wedTktrk8zkBuTjGV",
      "include_colab_link": true
    },
    "kernelspec": {
      "name": "python3",
      "display_name": "Python 3"
    }
  },
  "cells": [
    {
      "cell_type": "markdown",
      "metadata": {
        "id": "view-in-github",
        "colab_type": "text"
      },
      "source": [
        "<a href=\"https://colab.research.google.com/github/pragnasree14/Day-2-Assignment-DSA/blob/main/Untitled5.ipynb\" target=\"_parent\"><img src=\"https://colab.research.google.com/assets/colab-badge.svg\" alt=\"Open In Colab\"/></a>"
      ]
    },
    {
      "cell_type": "code",
      "metadata": {
        "colab": {
          "base_uri": "https://localhost:8080/"
        },
        "id": "HIvfNLejLrk1",
        "outputId": "37a19af1-2c84-453b-fcc4-74cbd1c33417"
      },
      "source": [
        "for i in range(1,6):\r\n",
        "  print (\" \" *(6-i-1) +str(i) *i)"
      ],
      "execution_count": 1,
      "outputs": [
        {
          "output_type": "stream",
          "text": [
            "    1\n",
            "   22\n",
            "  333\n",
            " 4444\n",
            "55555\n"
          ],
          "name": "stdout"
        }
      ]
    },
    {
      "cell_type": "code",
      "metadata": {
        "colab": {
          "base_uri": "https://localhost:8080/"
        },
        "id": "XJ9GVIoGLwPp",
        "outputId": "9ce77069-2c15-4258-9679-9112bc8ded8c"
      },
      "source": [
        "list=[12, 3, 55, 6, 144]\r\n",
        "for num in list:\r\n",
        "  if num%2 == 0:\r\n",
        "     print(num,end=\" \")"
      ],
      "execution_count": 2,
      "outputs": [
        {
          "output_type": "stream",
          "text": [
            "12 6 144 "
          ],
          "name": "stdout"
        }
      ]
    },
    {
      "cell_type": "code",
      "metadata": {
        "colab": {
          "base_uri": "https://localhost:8080/"
        },
        "id": "3ZTvUuJAL3Zy",
        "outputId": "cce26f3c-278a-4f9a-8fd0-3912ab649dbf"
      },
      "source": [
        "list1=[2, 10, 9, 37]\r\n",
        "for num1 in list1:\r\n",
        "  if num1%2==0:\r\n",
        "      print(num1,end=\" \")"
      ],
      "execution_count": 3,
      "outputs": [
        {
          "output_type": "stream",
          "text": [
            "2 10 "
          ],
          "name": "stdout"
        }
      ]
    }
  ]
}